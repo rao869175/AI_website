{
  "cells": [
    {
      "cell_type": "markdown",
      "metadata": {
        "id": "view-in-github",
        "colab_type": "text"
      },
      "source": [
        "<a href=\"https://colab.research.google.com/github/rao869175/AI_website/blob/main/ChatbotDB.ipynb\" target=\"_parent\"><img src=\"https://colab.research.google.com/assets/colab-badge.svg\" alt=\"Open In Colab\"/></a>"
      ]
    },
    {
      "cell_type": "code",
      "execution_count": null,
      "metadata": {
        "id": "rCZY1InqXPf9"
      },
      "outputs": [],
      "source": [
        "API_Key='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'"
      ]
    },
    {
      "cell_type": "code",
      "execution_count": null,
      "metadata": {
        "colab": {
          "base_uri": "https://localhost:8080/"
        },
        "id": "PhUVYJpIXY6o",
        "outputId": "08057118-91bc-4cc6-aa52-046a93228a91"
      },
      "outputs": [
        {
          "name": "stdout",
          "output_type": "stream",
          "text": [
            "Collecting langchain_groq\n",
            "  Downloading langchain_groq-0.3.2-py3-none-any.whl.metadata (2.6 kB)\n",
            "Requirement already satisfied: langchain-core<1.0.0,>=0.3.49 in /usr/local/lib/python3.11/dist-packages (from langchain_groq) (0.3.51)\n",
            "Collecting groq<1,>=0.4.1 (from langchain_groq)\n",
            "  Downloading groq-0.22.0-py3-none-any.whl.metadata (15 kB)\n",
            "Requirement already satisfied: anyio<5,>=3.5.0 in /usr/local/lib/python3.11/dist-packages (from groq<1,>=0.4.1->langchain_groq) (4.9.0)\n",
            "Requirement already satisfied: distro<2,>=1.7.0 in /usr/local/lib/python3.11/dist-packages (from groq<1,>=0.4.1->langchain_groq) (1.9.0)\n",
            "Requirement already satisfied: httpx<1,>=0.23.0 in /usr/local/lib/python3.11/dist-packages (from groq<1,>=0.4.1->langchain_groq) (0.28.1)\n",
            "Requirement already satisfied: pydantic<3,>=1.9.0 in /usr/local/lib/python3.11/dist-packages (from groq<1,>=0.4.1->langchain_groq) (2.11.3)\n",
            "Requirement already satisfied: sniffio in /usr/local/lib/python3.11/dist-packages (from groq<1,>=0.4.1->langchain_groq) (1.3.1)\n",
            "Requirement already satisfied: typing-extensions<5,>=4.10 in /usr/local/lib/python3.11/dist-packages (from groq<1,>=0.4.1->langchain_groq) (4.13.1)\n",
            "Requirement already satisfied: langsmith<0.4,>=0.1.125 in /usr/local/lib/python3.11/dist-packages (from langchain-core<1.0.0,>=0.3.49->langchain_groq) (0.3.28)\n",
            "Requirement already satisfied: tenacity!=8.4.0,<10.0.0,>=8.1.0 in /usr/local/lib/python3.11/dist-packages (from langchain-core<1.0.0,>=0.3.49->langchain_groq) (9.1.2)\n",
            "Requirement already satisfied: jsonpatch<2.0,>=1.33 in /usr/local/lib/python3.11/dist-packages (from langchain-core<1.0.0,>=0.3.49->langchain_groq) (1.33)\n",
            "Requirement already satisfied: PyYAML>=5.3 in /usr/local/lib/python3.11/dist-packages (from langchain-core<1.0.0,>=0.3.49->langchain_groq) (6.0.2)\n",
            "Requirement already satisfied: packaging<25,>=23.2 in /usr/local/lib/python3.11/dist-packages (from langchain-core<1.0.0,>=0.3.49->langchain_groq) (24.2)\n",
            "Requirement already satisfied: idna>=2.8 in /usr/local/lib/python3.11/dist-packages (from anyio<5,>=3.5.0->groq<1,>=0.4.1->langchain_groq) (3.10)\n",
            "Requirement already satisfied: certifi in /usr/local/lib/python3.11/dist-packages (from httpx<1,>=0.23.0->groq<1,>=0.4.1->langchain_groq) (2025.1.31)\n",
            "Requirement already satisfied: httpcore==1.* in /usr/local/lib/python3.11/dist-packages (from httpx<1,>=0.23.0->groq<1,>=0.4.1->langchain_groq) (1.0.7)\n",
            "Requirement already satisfied: h11<0.15,>=0.13 in /usr/local/lib/python3.11/dist-packages (from httpcore==1.*->httpx<1,>=0.23.0->groq<1,>=0.4.1->langchain_groq) (0.14.0)\n",
            "Requirement already satisfied: jsonpointer>=1.9 in /usr/local/lib/python3.11/dist-packages (from jsonpatch<2.0,>=1.33->langchain-core<1.0.0,>=0.3.49->langchain_groq) (3.0.0)\n",
            "Requirement already satisfied: orjson<4.0.0,>=3.9.14 in /usr/local/lib/python3.11/dist-packages (from langsmith<0.4,>=0.1.125->langchain-core<1.0.0,>=0.3.49->langchain_groq) (3.10.16)\n",
            "Requirement already satisfied: requests<3,>=2 in /usr/local/lib/python3.11/dist-packages (from langsmith<0.4,>=0.1.125->langchain-core<1.0.0,>=0.3.49->langchain_groq) (2.32.3)\n",
            "Requirement already satisfied: requests-toolbelt<2.0.0,>=1.0.0 in /usr/local/lib/python3.11/dist-packages (from langsmith<0.4,>=0.1.125->langchain-core<1.0.0,>=0.3.49->langchain_groq) (1.0.0)\n",
            "Requirement already satisfied: zstandard<0.24.0,>=0.23.0 in /usr/local/lib/python3.11/dist-packages (from langsmith<0.4,>=0.1.125->langchain-core<1.0.0,>=0.3.49->langchain_groq) (0.23.0)\n",
            "Requirement already satisfied: annotated-types>=0.6.0 in /usr/local/lib/python3.11/dist-packages (from pydantic<3,>=1.9.0->groq<1,>=0.4.1->langchain_groq) (0.7.0)\n",
            "Requirement already satisfied: pydantic-core==2.33.1 in /usr/local/lib/python3.11/dist-packages (from pydantic<3,>=1.9.0->groq<1,>=0.4.1->langchain_groq) (2.33.1)\n",
            "Requirement already satisfied: typing-inspection>=0.4.0 in /usr/local/lib/python3.11/dist-packages (from pydantic<3,>=1.9.0->groq<1,>=0.4.1->langchain_groq) (0.4.0)\n",
            "Requirement already satisfied: charset-normalizer<4,>=2 in /usr/local/lib/python3.11/dist-packages (from requests<3,>=2->langsmith<0.4,>=0.1.125->langchain-core<1.0.0,>=0.3.49->langchain_groq) (3.4.1)\n",
            "Requirement already satisfied: urllib3<3,>=1.21.1 in /usr/local/lib/python3.11/dist-packages (from requests<3,>=2->langsmith<0.4,>=0.1.125->langchain-core<1.0.0,>=0.3.49->langchain_groq) (2.3.0)\n",
            "Downloading langchain_groq-0.3.2-py3-none-any.whl (15 kB)\n",
            "Downloading groq-0.22.0-py3-none-any.whl (126 kB)\n",
            "\u001b[2K   \u001b[90m━━━━━━━━━━━━━━━━━━━━━━━━━━━━━━━━━━━━━━━━\u001b[0m \u001b[32m126.7/126.7 kB\u001b[0m \u001b[31m3.5 MB/s\u001b[0m eta \u001b[36m0:00:00\u001b[0m\n",
            "\u001b[?25hInstalling collected packages: groq, langchain_groq\n",
            "Successfully installed groq-0.22.0 langchain_groq-0.3.2\n"
          ]
        }
      ],
      "source": [
        "!pip install langchain_groq"
      ]
    },
    {
      "cell_type": "code",
      "execution_count": null,
      "metadata": {
        "id": "SlMEWoOuUILJ"
      },
      "outputs": [],
      "source": [
        "from langchain_groq import ChatGroq\n",
        "\n",
        "API_Key = \"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\"\n",
        "\n",
        "llm = ChatGroq(\n",
        "    api_key=API_Key,\n",
        "    model_name=\"llama3-8b-8192\"  # <-- this is required!\n",
        ")\n",
        "\n"
      ]
    },
    {
      "cell_type": "code",
      "execution_count": null,
      "metadata": {
        "id": "xwcpAXdvVoQZ"
      },
      "outputs": [],
      "source": [
        "response=llm.invoke(input='Albert Einstein')"
      ]
    },
    {
      "cell_type": "code",
      "execution_count": null,
      "metadata": {
        "colab": {
          "base_uri": "https://localhost:8080/",
          "height": 202
        },
        "id": "qmTb6HX-Vy-Y",
        "outputId": "f1ed4afc-0622-4b2c-8660-d643b7dd3e58"
      },
      "outputs": [
        {
          "data": {
            "application/vnd.google.colaboratory.intrinsic+json": {
              "type": "string"
            },
            "text/plain": [
              "'Albert Einstein (1879-1955) was a renowned German-born physicist who is widely regarded as one of the most influential scientists of the 20th century. He is best known for his theory of relativity and the famous equation E=mc².\\n\\nEarly Life and Education:\\n\\nEinstein was born in Munich, Germany, to a middle-class Jewish family. He was a curious child and was fascinated by science and mathematics from an early age. He was homeschooled by his parents and later attended a Catholic elementary school and a Swiss federal polytechnic school.\\n\\nCareer:\\n\\nEinstein\\'s academic career was marked by several significant milestones. In 1905, he received his doctorate from the University of Zurich and published four groundbreaking papers that introduced the special theory of relativity. These papers revolutionized the field of physics and challenged the traditional understanding of space and time.\\n\\nIn 1915, Einstein expanded his theory to include gravity, leading to the development of the general theory of relativity. This theory predicted the existence of black holes and the curvature of spacetime.\\n\\nEinstein\\'s work had a profound impact on the development of modern physics, and he was awarded the Nobel Prize in Physics in 1921 for his explanation of the photoelectric effect.\\n\\nNotable Contributions:\\n\\n1. Theory of Relativity: Einstein\\'s theory of relativity challenged the traditional understanding of space and time, introducing the concept of spacetime and the speed of light as a universal constant.\\n2. E=mc²: Einstein\\'s famous equation shows that mass (m) and energy (E) are equivalent and can be converted into each other.\\n3. Brownian Motion: Einstein\\'s work on Brownian motion provided strong evidence for the existence of atoms and molecules.\\n4. Quantum Mechanics: Einstein\\'s work on quantum mechanics led to the development of the theory of wave-particle duality.\\n\\nAwards and Recognition:\\n\\n* Nobel Prize in Physics (1921)\\n* Copley Medal (1925)\\n* Max Planck Medal (1929)\\n* Time Magazine\\'s Person of the Century (1999)\\n\\nPersonal Life:\\n\\nEinstein was married twice and had two sons. He was a passionate advocate for civil rights, women\\'s rights, and peace, and was involved in various social and political causes throughout his life.\\n\\nLegacy:\\n\\nEinstein\\'s legacy extends far beyond his scientific contributions. He is widely regarded as a cultural icon, inspiring countless people around the world with his curiosity, creativity, and passion for learning.\\n\\nSome of the most notable Einstein quotes include:\\n\\n* \"Imagination is more important than knowledge. Knowledge is limited. Imagination encircles the world.\"\\n* \"The important thing is not to stop questioning. Curiosity has its own reason for existence.\"\\n* \"Life is like riding a bicycle. To keep your balance, you must keep moving.\"\\n\\nEinstein\\'s work continues to inspire new generations of scientists, philosophers, and thinkers, and his legacy remains a testament to the power of human curiosity and creativity.'"
            ]
          },
          "execution_count": 13,
          "metadata": {},
          "output_type": "execute_result"
        }
      ],
      "source": [
        "response.content"
      ]
    },
    {
      "cell_type": "code",
      "execution_count": null,
      "metadata": {
        "colab": {
          "base_uri": "https://localhost:8080/"
        },
        "id": "OSj7LLl7CUmo",
        "outputId": "9ed31ed4-ec28-4013-d3d3-f3e381d649c6"
      },
      "outputs": [
        {
          "name": "stdout",
          "output_type": "stream",
          "text": [
            "CSV file \"sample_1GB_data.csv\" created with approximate size of 1GB.\n"
          ]
        }
      ],
      "source": [
        "import os\n",
        "import random\n",
        "import string\n",
        "\n",
        "# Target file size: 1GB = 1 * 1024 * 1024 * 1024 bytes\n",
        "target_size = 1 * 1024 * 1024 * 1024\n",
        "filename = 'sample_1GB_data.csv'\n",
        "\n",
        "def random_string(length):\n",
        "    return ''.join(random.choices(string.ascii_letters + string.digits, k=length))\n",
        "\n",
        "with open(filename, 'w', encoding='utf-8') as f:\n",
        "    # Write CSV header\n",
        "    f.write('id,name,email,age,city\\n')\n",
        "    current_size = f.tell()\n",
        "\n",
        "    id_counter = 1\n",
        "    while current_size < target_size:\n",
        "        name = random_string(10)\n",
        "        email = f'{random_string(5)}@example.com'\n",
        "        age = str(random.randint(18, 70))\n",
        "        city = random_string(8)\n",
        "\n",
        "        line = f'{id_counter},{name},{email},{age},{city}\\n'\n",
        "        f.write(line)\n",
        "\n",
        "        id_counter += 1\n",
        "        current_size += len(line)\n",
        "\n",
        "print(f'CSV file \"{filename}\" created with approximate size of 1GB.')\n"
      ]
    },
    {
      "cell_type": "code",
      "execution_count": null,
      "metadata": {
        "colab": {
          "base_uri": "https://localhost:8080/"
        },
        "id": "yr5JzOzOE-cn",
        "outputId": "ac1db2e2-ac00-4632-b5a2-030049e88189"
      },
      "outputs": [
        {
          "name": "stdout",
          "output_type": "stream",
          "text": [
            "id,name,email,age,city\n",
            "1,1NwWotN9BJ,Ywihr@example.com,50,XhoscsaU\n",
            "2,6PBX8TOpBn,Asop4@example.com,42,y33f3dll\n",
            "3,Q8YIZZcdGB,Kg6eJ@example.com,63,W2BLBmCV\n",
            "4,y8vwQGObyY,RCE0E@example.com,35,WlNCypWl\n",
            "5,CaIjjeN8JA,7k42Z@example.com,45,qV4HNv9r\n",
            "6,eGkomxiske,ZNr4s@example.com,47,HMIu4viS\n",
            "7,aof0PO3IKh,5C9Cl@example.com,43,ZmISHSbO\n",
            "8,p1fqD4GkkS,NqNCU@example.com,37,87psoCoZ\n",
            "9,Egl08z5ipy,9m9Fi@example.com,46,lRsdW0E3\n",
            "10,EwEzicJJaz,JESk6@example.com,32,Dlt0GmUo\n",
            "11,arz5M40c8b,gLm03@example.com,63,9G17nEb3\n",
            "12,I6FDYGw8Nu,lBn5u@example.com,35,FbkrAUU6\n",
            "13,O54nLtGJXv,zeYF6@example.com,34,Zackm3PD\n",
            "14,Gieis1y1QB,DkU80@example.com,22,CZSdTwUr\n",
            "15,hhMfMMhIcy,r2XZV@example.com,38,M1BRPnn3\n",
            "16,Cyl8htKgzo,Umg0i@example.com,62,iySO0pmh\n",
            "17,9VyOSbArAK,zra83@example.com,42,Xow1071h\n",
            "18,KsfHO9Kx66,lbhQd@example.com,45,QsFCSZsr\n",
            "19,ArwbGZ2hjU,6nuT7@example.com,21,884h0Z5m\n",
            "20,Wc7Ao66jS5,eZ3Qq@example.com,21,7PYK9WzT\n",
            "21,Zqkj7mr2U9,4G2KF@example.com,19,AeiZoIB6\n",
            "22,1mWa9OLsfk,Uha1F@example.com,23,oMbmENld\n",
            "23,2udImrAxLg,OkM8r@example.com,43,voEjA0ax\n",
            "24,vgAKLbqinb,JL8qS@example.com,62,VLcfUVPw\n",
            "25,8680nFZYjl,M2lst@example.com,52,00Mij5w5\n",
            "26,dqvyd0m9f9,J2S5L@example.com,24,FszprN8p\n",
            "27,EZ5tvSAUNI,kD90c@example.com,50,sVUjjs3O\n",
            "28,whEt3iyiGQ,6o3bj@example.com,34,GVEmrhIS\n",
            "29,TnGo136g4P,9OSD9@example.com,60,67MXyZyw\n",
            "30,RQAX6hYGN2,TuFyc@example.com,52,6zlzR5Au\n",
            "31,ArIVXXF5hw,cPA6n@example.com,30,IIL32GRd\n",
            "32,H71cMuI6gd,N4ipA@example.com,19,9n4DhCr1\n",
            "33,ivCKM4kxmY,4rTu8@example.com,19,bFFCRjnF\n",
            "34,uH7YhM7A0R,BrjFX@example.com,62,CaghIqOv\n"
          ]
        }
      ],
      "source": [
        "filename = 'sample_1GB_data.csv'\n",
        "\n",
        "try:\n",
        "    with open(filename, 'r', encoding='utf-8') as file:\n",
        "        for _ in range(35):\n",
        "            print(file.readline().strip())\n",
        "except FileNotFoundError:\n",
        "    print(\"File not found. Please check the file path.\")\n",
        "\n"
      ]
    },
    {
      "cell_type": "code",
      "source": [
        "import os\n",
        "import csv\n",
        "\n",
        "# Hardcoded CSV file path (replace this with your own file path)\n",
        "CSV_FILE_PATH = \"/content/sample_1GB_data.csv\"\n",
        "\n",
        "# Check if the file exists\n",
        "def file_exists(filepath):\n",
        "    return os.path.isfile(filepath)\n",
        "\n",
        "# Main chatbot function\n",
        "def chatbot():\n",
        "    print(\"🤖✨ Welcome! I'm Chatbot 📊 — your CSV Assistant.\\n\")\n",
        "\n",
        "    # Check if the file exists\n",
        "    if not file_exists(CSV_FILE_PATH):\n",
        "        print(\"❌ Chatbot: Uh-oh! I couldn't find the CSV file. 📂\")\n",
        "        print(\"📌 Please enter the relevant information about your dataset.\")\n",
        "        return\n",
        "\n",
        "    # Open the file and read headers\n",
        "    with open(CSV_FILE_PATH, 'r', encoding='utf-8', errors='ignore') as file:\n",
        "        reader = csv.reader(file)\n",
        "        headers = next(reader)\n",
        "\n",
        "    # Display available commands\n",
        "    print(\"📑 Available commands:\")\n",
        "    print(\"👉 'show number' — display that many rows\")\n",
        "    print(\"👉 'search keyword' — search rows for a keyword\")\n",
        "    print(\"👉 'showcols col1,col2,... number' — display specific columns and rows\")\n",
        "    print(\"👉 'row row_number column_name' — display a specific row and column\")\n",
        "    print(\"👉 'developer' — find out my developer's name\")\n",
        "    print(\"👉 'exit' — to quit the chatbot\\n\")\n",
        "\n",
        "    # Start chatbot loop\n",
        "    while True:\n",
        "        user_input = input(\"🧑 You: \").lower()\n",
        "\n",
        "        if user_input == 'exit':\n",
        "            print(\"👋 Chatbot: Goodbye, see you next time!\")\n",
        "            break\n",
        "\n",
        "        elif user_input.startswith('show '):\n",
        "            try:\n",
        "                num_rows = int(user_input[5:].strip())\n",
        "                print(f\"\\n 🤖Chatbot: Showing {num_rows} rows:\\n\")\n",
        "                with open(CSV_FILE_PATH, 'r', encoding='utf-8', errors='ignore') as file:\n",
        "                    reader = csv.reader(file)\n",
        "                    next(reader)\n",
        "                    for i, row in enumerate(reader):\n",
        "                        print(row)\n",
        "                        if i + 1 >= num_rows:\n",
        "                            break\n",
        "                print(\"\\n 🤖Chatbot: Done.\\n\")\n",
        "            except ValueError:\n",
        "                print(\"❌ Chatbot: Please enter a valid number after 'show'.\")\n",
        "\n",
        "        elif user_input.startswith('search '):\n",
        "            keyword = user_input[7:].strip()\n",
        "            if keyword:\n",
        "                print(f\"\\n🔍 Chatbot: Searching for '{keyword}':\\n\")\n",
        "                with open(CSV_FILE_PATH, 'r', encoding='utf-8', errors='ignore') as file:\n",
        "                    reader = csv.reader(file)\n",
        "                    next(reader)\n",
        "                    found = False\n",
        "                    for row in reader:\n",
        "                        if any(keyword.lower() in cell.lower() for cell in row):\n",
        "                            print(row)\n",
        "                            found = True\n",
        "                    if not found:\n",
        "                        print(f\"🤖 Chatbot: No matches found for '{keyword}'.\")\n",
        "                print(\"\\n 🤖Chatbot: Done.\\n\")\n",
        "            else:\n",
        "                print(\"❌ Chatbot: Enter a keyword after 'search'.\")\n",
        "\n",
        "        elif user_input.startswith('showcols '):\n",
        "            try:\n",
        "                parts = user_input[9:].strip().split()\n",
        "                col_names = parts[0].split(',')\n",
        "                num_rows = int(parts[1])\n",
        "\n",
        "                with open(CSV_FILE_PATH, 'r', encoding='utf-8', errors='ignore') as file:\n",
        "                    reader = csv.reader(file)\n",
        "                    headers = next(reader)\n",
        "                    col_indexes = [headers.index(col) for col in col_names]\n",
        "\n",
        "                    print(f\"\\n📑 Chatbot: Showing {num_rows} rows for columns {col_names}:\\n\")\n",
        "                    for i, row in enumerate(reader):\n",
        "                        selected_data = [row[idx] for idx in col_indexes]\n",
        "                        print(selected_data)\n",
        "                        if i + 1 >= num_rows:\n",
        "                            break\n",
        "                print(\"\\n✅ Chatbot: Done.\\n\")\n",
        "            except (ValueError, IndexError):\n",
        "                print(\"❌ Chatbot: Invalid format or unknown column name.\")\n",
        "                print(\"👉 Example: showcols Name,Email 5\")\n",
        "\n",
        "        elif user_input.startswith('row '):\n",
        "            try:\n",
        "                parts = user_input[4:].strip().split()\n",
        "                row_number = int(parts[0])\n",
        "                column_name = parts[1]\n",
        "\n",
        "                with open(CSV_FILE_PATH, 'r', encoding='utf-8', errors='ignore') as file:\n",
        "                    reader = csv.reader(file)\n",
        "                    headers = next(reader)\n",
        "                    if column_name not in headers:\n",
        "                        print(f\"❌ Chatbot: Column '{column_name}' not found.\")\n",
        "                        continue\n",
        "\n",
        "                    row_data = list(reader)[row_number - 1]\n",
        "                    col_index = headers.index(column_name)\n",
        "                    print(f\"\\n🤖 Chatbot: Row {row_number}, Column '{column_name}' = {row_data[col_index]}\")\n",
        "                print(\"\\n✅ Chatbot: Done.\\n\")\n",
        "            except (ValueError, IndexError):\n",
        "                print(\"❌ Chatbot: Invalid format or row number out of range.\")\n",
        "                print(\"👉 Example: row 14 Age\")\n",
        "\n",
        "        elif user_input in [\"developer\", \"who is your developer?\", \"what is your developer name?\"]:\n",
        "            print(\"🤖 Chatbot: My developer is Rao Zain.\")\n",
        "\n",
        "        else:\n",
        "            print(\"🤖 Chatbot: Please enter the relevant information about your dataset .\")\n",
        "\n",
        "# Run chatbot if executed directly\n",
        "if __name__ == \"__main__\":\n",
        "    chatbot()\n"
      ],
      "metadata": {
        "colab": {
          "base_uri": "https://localhost:8080/"
        },
        "id": "d8R8yXnrmtLD",
        "outputId": "0ca97c26-7bb6-4d09-e300-7c160c4bd05f"
      },
      "execution_count": 26,
      "outputs": [
        {
          "output_type": "stream",
          "name": "stdout",
          "text": [
            "🤖✨ Welcome! I'm Chatbot 📊 — your CSV Assistant.\n",
            "\n",
            "📑 Available commands:\n",
            "👉 'show number' — display that many rows\n",
            "👉 'search keyword' — search rows for a keyword\n",
            "👉 'showcols col1,col2,... number' — display specific columns and rows\n",
            "👉 'row row_number column_name' — display a specific row and column\n",
            "👉 'developer' — find out my developer's name\n",
            "👉 'exit' — to quit the chatbot\n",
            "\n",
            "🧑 You: who is your developer?\n",
            "🤖 Chatbot: My developer is Rao Zain.\n",
            "🧑 You: exit\n",
            "👋 Chatbot: Goodbye, see you next time!\n"
          ]
        }
      ]
    }
  ],
  "metadata": {
    "colab": {
      "provenance": [],
      "authorship_tag": "ABX9TyP6+pjBLupR1VIzIllK748d",
      "include_colab_link": true
    },
    "kernelspec": {
      "display_name": "Python 3",
      "name": "python3"
    },
    "language_info": {
      "name": "python"
    }
  },
  "nbformat": 4,
  "nbformat_minor": 0
}